{
 "cells": [
  {
   "cell_type": "markdown",
   "metadata": {},
   "source": [
    "# Homework 1 - The Basics\n",
    "\n",
    "Name: Justin McDonald\n",
    "\n",
    "Class: 1:30PM 3335"
   ]
  },
  {
   "cell_type": "code",
   "execution_count": 8,
   "metadata": {},
   "outputs": [
    {
     "name": "stdout",
     "output_type": "stream",
     "text": [
      "Enter amount of shares: 1000\n",
      "Enter price of each share: 20\n",
      "Enter sale price of each shared: 25\n",
      "\n",
      "\n",
      "Number of shares:  1000.0\n",
      "Purchase price per share:  20.0\n",
      "Sale price per share:  25.0\n",
      "\n",
      "\n",
      "Stock Purchase\n",
      "-------------\n",
      "Amount paid for the shares:  20,000.00\n",
      "Comission paid:  600.00\n",
      "Total amount paid to purchase shares:  20,600.00\n",
      "\n",
      "\n",
      "Stock Sale\n",
      "-------------\n",
      "Amount received for the shares:  25,000.00\n",
      "Comission paid:  750.00\n",
      "Net amount received from sale of shares:  24,250.00\n",
      "\n",
      "\n",
      "Net result after buying and selling shares:  3,650.00\n"
     ]
    }
   ],
   "source": [
    "shares = float(input(\"Enter amount of shares: \"))\n",
    "purchase_price = float(input('Enter price of each share: '))\n",
    "sale_price = float(input('Enter sale price of each shared: '))\n",
    "comission_fee = 0.03\n",
    "print('\\n')\n",
    "\n",
    "#amount before comission\n",
    "purchase_amount = shares * purchase_price\n",
    "sale_amount = shares * sale_price\n",
    "#total amount of comission\n",
    "comission_pay = purchase_amount * comission_fee\n",
    "comission_sale = sale_amount * comission_fee\n",
    "#amount after comission\n",
    "totalsale = sale_amount - comission_sale \n",
    "totalpayment =  purchase_amount + comission_pay\n",
    "#net income amount\n",
    "net = totalsale - totalpayment\n",
    "\n",
    "print('Number of shares: ', shares)\n",
    "print('Purchase price per share: ', purchase_price)\n",
    "print('Sale price per share: ', sale_price)\n",
    "print('\\n')\n",
    "\n",
    "print('Stock Purchase')\n",
    "print('-------------')\n",
    "print('Amount paid for the shares: ', format(purchase_amount, ',.2f'))\n",
    "print('Comission paid: ', format(comission_pay, ',.2f'))\n",
    "print('Total amount paid to purchase shares: ', format(totalpayment, ',.2f'))\n",
    "print('\\n')    \n",
    "\n",
    "print('Stock Sale')\n",
    "print('-------------')\n",
    "print('Amount received for the shares: ', format(sale_amount, ',.2f'))\n",
    "print('Comission paid: ', format(comission_sale, ',.2f'))\n",
    "print('Net amount received from sale of shares: ', format(totalsale, ',.2f'))\n",
    "print('\\n')  \n",
    "\n",
    "print('Net result after buying and selling shares: ', format(net, ',.2f'))\n"
   ]
  },
  {
   "cell_type": "code",
   "execution_count": null,
   "metadata": {},
   "outputs": [],
   "source": []
  }
 ],
 "metadata": {
  "kernelspec": {
   "display_name": "Python 3",
   "language": "python",
   "name": "python3"
  },
  "language_info": {
   "codemirror_mode": {
    "name": "ipython",
    "version": 3
   },
   "file_extension": ".py",
   "mimetype": "text/x-python",
   "name": "python",
   "nbconvert_exporter": "python",
   "pygments_lexer": "ipython3",
   "version": "3.6.5"
  }
 },
 "nbformat": 4,
 "nbformat_minor": 2
}
