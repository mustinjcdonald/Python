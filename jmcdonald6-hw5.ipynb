{
 "cells": [
  {
   "cell_type": "markdown",
   "metadata": {},
   "source": [
    "```\n",
    "Programmer: Justin McDonald\n",
    "Assignment: Homework 5\n",
    "Due Date: 10/12/18\n",
    "\n",
    "Algorithm:\n",
    "1. Import pandas\n",
    "2. Read .csv file with pandas\n",
    "3. Create Series after parsing the .csv file for desired columns\n",
    "4. Calculate the total for each series based off of the index criteria in question description\n",
    "5. For the final question use a for loop to check if .csv zipcode (series index) is a match in the manhattan.txt file.\n",
    "6. Print totals\n",
    "```"
   ]
  },
  {
   "cell_type": "code",
   "execution_count": 71,
   "metadata": {},
   "outputs": [
    {
     "name": "stdout",
     "output_type": "stream",
     "text": [
      "The total salaries and wages amount for all NY tax filers is: 514823973\n"
     ]
    }
   ],
   "source": [
    "#import pandas\n",
    "import pandas as pd \n",
    "\n",
    "#read .csv file with tax filer data\n",
    "tax_table = pd.io.parsers.read_csv(\"15zpnyagi.csv\", usecols=['STATE', 'A00200'])\n",
    "\n",
    "#create series for the two columns in .csv file\n",
    "data = pd.Series(tax_table.A00200.values, index = tax_table.STATE.values)\n",
    "#calculate the total for each value found with the index \"NY\" in the created series\n",
    "Total = data.loc[data.index == 'NY'].sum()\n",
    "\n",
    "print('The total salaries and wages amount for all NY tax filers is:', Total)"
   ]
  },
  {
   "cell_type": "code",
   "execution_count": 33,
   "metadata": {},
   "outputs": [
    {
     "name": "stdout",
     "output_type": "stream",
     "text": [
      "The total number of dependents claimed by all New York tax filers in income range of $50,000 to $75,000 is: 684670\n"
     ]
    }
   ],
   "source": [
    "#import pandas\n",
    "import pandas as pd\n",
    "\n",
    "#read .csv file with tax filer data\n",
    "tax_table = pd.io.parsers.read_csv(\"15zpnyagi.csv\", usecols=['NUMDEP', 'agi_stub'])\n",
    "\n",
    "#create series for the two columns in .csv file\n",
    "data = pd.Series(tax_table.NUMDEP.values, index = tax_table.agi_stub.values)\n",
    "#calculate the total for each value found with the index 3 in the created series\n",
    "Total = data.loc[data.index == 3].sum()\n",
    "print('The total number of dependents claimed by all New York tax filers in income range of $50,000 to $75,000 is:', Total)"
   ]
  },
  {
   "cell_type": "code",
   "execution_count": 121,
   "metadata": {},
   "outputs": [
    {
     "name": "stdout",
     "output_type": "stream",
     "text": [
      "The total for educator expenses amount in Washingtonville, NY is: 60\n"
     ]
    }
   ],
   "source": [
    "#import pandas\n",
    "import pandas as pd\n",
    "\n",
    "#read .csv file with tax filer data\n",
    "tax_table = pd.io.parsers.read_csv(\"15zpnyagi.csv\", usecols=['A03220', 'zipcode'])\n",
    "\n",
    "#create series for the two columns in .csv file\n",
    "data = pd.Series(tax_table.A03220.values, index = tax_table.zipcode.values)\n",
    "#calculate the total for each value found with the index 10992 in the created series\n",
    "Total = data.loc[data.index == 10992].sum()\n",
    "\n",
    "print('The total for educator expenses amount in Washingtonville, NY is:', Total)"
   ]
  },
  {
   "cell_type": "code",
   "execution_count": 70,
   "metadata": {},
   "outputs": [
    {
     "name": "stdout",
     "output_type": "stream",
     "text": [
      "The total self-employment tax amount for Manhattan is: 1071285\n"
     ]
    }
   ],
   "source": [
    "#import pandas\n",
    "import pandas as pd\n",
    "\n",
    "#read .csv file with tax filer data\n",
    "tax_table = pd.io.parsers.read_csv(\"15zpnyagi.csv\", usecols=['A09400', 'zipcode'])\n",
    "data = pd.Series(tax_table.A09400.values, index = tax_table.zipcode.values)\n",
    "\n",
    "zipCodes = []\n",
    "\n",
    "#read .txt file into zipCodes list\n",
    "with open(\"manhattan.txt\",\"r+\") as file:\n",
    "    zipCodes = file.read().split('\\n')\n",
    "\n",
    "i = 0\n",
    "counter = 0\n",
    "total = 0\n",
    "\n",
    "#for loop to run each zipcode in .csv column against the zipCodes list to see if there is a match\n",
    "# if there is a match it adds the value of the dependents column to total\n",
    "for d in data.items():\n",
    "    if zipCodes.count(str(d[0])) > 0:\n",
    "        total += d[1]\n",
    "            \n",
    "print('The total self-employment tax amount for Manhattan is:', total)"
   ]
  }
 ],
 "metadata": {
  "kernelspec": {
   "display_name": "Python 3",
   "language": "python",
   "name": "python3"
  },
  "language_info": {
   "codemirror_mode": {
    "name": "ipython",
    "version": 3
   },
   "file_extension": ".py",
   "mimetype": "text/x-python",
   "name": "python",
   "nbconvert_exporter": "python",
   "pygments_lexer": "ipython3",
   "version": "3.6.5"
  }
 },
 "nbformat": 4,
 "nbformat_minor": 2
}
