{
 "cells": [
  {
   "cell_type": "markdown",
   "metadata": {},
   "source": [
    " ````\n",
    "Programmer: Justin McDonald\n",
    "Assignment: Homework 6\n",
    "Due Date: 11/27/18\n",
    "\n",
    "Algorithm:\n",
    "1. Import panadas and numpy\n",
    "2. Remove any duplicate values in the sheet\n",
    "3. Create a new Gender column that is categorical and change values\n",
    "4. Replace missing values in Age column with the average of each row\n",
    "5. Create new columns \"PAnxiety, PBIntent, PAffect, PGL_sum\" with either average or sum\n",
    "6. Replace missing values in Education:mode, Income:median, OwnCell:1, UsedCell:1, Comfort:mean, Satisfaction:mean.\n",
    "7. Change education and income column to categorical and change the number values in Education to match Income column.\n",
    "8. Drop all columns that are not needed and rearrange in order the proffesor specified.\n",
    "9. Save created dataframe to a .csv file (comma spereated).\n",
    "````"
   ]
  },
  {
   "cell_type": "code",
   "execution_count": 2,
   "metadata": {},
   "outputs": [],
   "source": [
    "#import panda and numpy\n",
    "import numpy as np\n",
    "import pandas as pd\n",
    "\n",
    "#read data\n",
    "df = pd.read_excel(\"Taiwan_CellSurvey_RAW.xlsx\")\n",
    "#remove duplicates\n",
    "df1 = df.drop_duplicates()\n"
   ]
  },
  {
   "cell_type": "code",
   "execution_count": 3,
   "metadata": {},
   "outputs": [
    {
     "name": "stdout",
     "output_type": "stream",
     "text": [
      "0      1\n",
      "1      0\n",
      "2      1\n",
      "3      1\n",
      "4      1\n",
      "5      1\n",
      "6      1\n",
      "7      1\n",
      "8      0\n",
      "9      0\n",
      "10     1\n",
      "11     0\n",
      "12     1\n",
      "13     1\n",
      "14     0\n",
      "15     1\n",
      "16     1\n",
      "17     1\n",
      "18     0\n",
      "19     1\n",
      "20     1\n",
      "21     1\n",
      "22     1\n",
      "23     1\n",
      "24     1\n",
      "25     0\n",
      "26     1\n",
      "27     1\n",
      "28     1\n",
      "29     0\n",
      "      ..\n",
      "242    0\n",
      "243    1\n",
      "244    1\n",
      "245    0\n",
      "246    1\n",
      "247    0\n",
      "248    1\n",
      "249    0\n",
      "250    0\n",
      "251    1\n",
      "252    1\n",
      "253    0\n",
      "254    1\n",
      "255    1\n",
      "256    0\n",
      "257    0\n",
      "258    0\n",
      "259    0\n",
      "260    1\n",
      "261    1\n",
      "262    1\n",
      "263    1\n",
      "264    1\n",
      "265    1\n",
      "266    1\n",
      "267    0\n",
      "268    1\n",
      "269    0\n",
      "270    1\n",
      "271    0\n",
      "Name: Gender, Length: 268, dtype: category\n",
      "Categories (2, int64): [0, 1]\n"
     ]
    },
    {
     "name": "stderr",
     "output_type": "stream",
     "text": [
      "C:\\Users\\jumcdo\\AppData\\Local\\Continuum\\anaconda3\\lib\\site-packages\\ipykernel_launcher.py:1: SettingWithCopyWarning: \n",
      "A value is trying to be set on a copy of a slice from a DataFrame.\n",
      "Try using .loc[row_indexer,col_indexer] = value instead\n",
      "\n",
      "See the caveats in the documentation: http://pandas.pydata.org/pandas-docs/stable/indexing.html#indexing-view-versus-copy\n",
      "  \"\"\"Entry point for launching an IPython kernel.\n",
      "C:\\Users\\jumcdo\\AppData\\Local\\Continuum\\anaconda3\\lib\\site-packages\\pandas\\core\\frame.py:3694: SettingWithCopyWarning: \n",
      "A value is trying to be set on a copy of a slice from a DataFrame\n",
      "\n",
      "See the caveats in the documentation: http://pandas.pydata.org/pandas-docs/stable/indexing.html#indexing-view-versus-copy\n",
      "  errors=errors)\n",
      "C:\\Users\\jumcdo\\AppData\\Local\\Continuum\\anaconda3\\lib\\site-packages\\pandas\\core\\frame.py:3778: SettingWithCopyWarning: \n",
      "A value is trying to be set on a copy of a slice from a DataFrame\n",
      "\n",
      "See the caveats in the documentation: http://pandas.pydata.org/pandas-docs/stable/indexing.html#indexing-view-versus-copy\n",
      "  return super(DataFrame, self).rename(**kwargs)\n"
     ]
    }
   ],
   "source": [
    "#convert Gender column to category type\n",
    "df1['GenderNew'] = df1[\"Gender\"].astype(\"category\")\n",
    "\n",
    "#change the numbers of category in the GenderNew column\n",
    "df1[\"GenderNew\"].cat.rename_categories({1:0, 2:1}, inplace = True)\n",
    "\n",
    "#drop the old Gender column\n",
    "df1.drop('Gender', axis = 1, inplace = True)\n",
    "\n",
    "#rename the GenderNew column to old name\n",
    "df1.rename(index=str, columns={'GenderNew':'Gender'}, inplace = True)"
   ]
  },
  {
   "cell_type": "code",
   "execution_count": 4,
   "metadata": {},
   "outputs": [],
   "source": [
    "#reorg the order of columns in dataframe\n",
    "cols2 = ['SurveyID', 'Age', 'Gender_RAW', 'Type', 'Education', 'Income',\n",
    "       'Employed', 'FullPart', '@1OwnCell', '@2UsedCell', '@3OwnHousePhone',\n",
    "       '@4UseFreq', 'BQ4a', 'BQ4aCont', '@5UseLength', 'BQ5a', 'BQ5aCont',\n",
    "       '@6aTexting', '@6bEmail', '@6cInternet', '@6dBank', '@6eBills',\n",
    "       '@6fFacebook', '@6gPics', '@6hGames', '@6iBuy', '@7PurchOnline', 'BQ7a',\n",
    "       'BQ7aCont', '@8CellExper', 'BQ8a', 'BQ8b', '@9Comfort', 'BQ9a',\n",
    "       '@10Satisfaction', 'BQ10a', 'PA1', 'PA2', 'PA3', 'PA4', 'PA5', 'PA6',\n",
    "       'PA7', 'PBI1', 'PBI2', 'PBI3', 'PBI4', 'PBIUse', 'PBIBuy', 'PGL1',\n",
    "       'PGL2', 'PGL3', 'Comments', 'VAR00001']"
   ]
  },
  {
   "cell_type": "code",
   "execution_count": 5,
   "metadata": {},
   "outputs": [
    {
     "name": "stderr",
     "output_type": "stream",
     "text": [
      "C:\\Users\\jumcdo\\AppData\\Local\\Continuum\\anaconda3\\lib\\site-packages\\pandas\\core\\generic.py:5430: SettingWithCopyWarning: \n",
      "A value is trying to be set on a copy of a slice from a DataFrame\n",
      "\n",
      "See the caveats in the documentation: http://pandas.pydata.org/pandas-docs/stable/indexing.html#indexing-view-versus-copy\n",
      "  self._update_inplace(new_data)\n"
     ]
    }
   ],
   "source": [
    "#replace n/a values with the average of each row in Age column\n",
    "fill_values = {'Age': round(df1['Age'].mean(), 1)}\n",
    "\n",
    "df1.fillna(value = fill_values, inplace = True)"
   ]
  },
  {
   "cell_type": "code",
   "execution_count": 6,
   "metadata": {},
   "outputs": [
    {
     "name": "stderr",
     "output_type": "stream",
     "text": [
      "C:\\Users\\jumcdo\\AppData\\Local\\Continuum\\anaconda3\\lib\\site-packages\\ipykernel_launcher.py:1: SettingWithCopyWarning: \n",
      "A value is trying to be set on a copy of a slice from a DataFrame.\n",
      "Try using .loc[row_indexer,col_indexer] = value instead\n",
      "\n",
      "See the caveats in the documentation: http://pandas.pydata.org/pandas-docs/stable/indexing.html#indexing-view-versus-copy\n",
      "  \"\"\"Entry point for launching an IPython kernel.\n",
      "C:\\Users\\jumcdo\\AppData\\Local\\Continuum\\anaconda3\\lib\\site-packages\\ipykernel_launcher.py:3: SettingWithCopyWarning: \n",
      "A value is trying to be set on a copy of a slice from a DataFrame.\n",
      "Try using .loc[row_indexer,col_indexer] = value instead\n",
      "\n",
      "See the caveats in the documentation: http://pandas.pydata.org/pandas-docs/stable/indexing.html#indexing-view-versus-copy\n",
      "  This is separate from the ipykernel package so we can avoid doing imports until\n",
      "C:\\Users\\jumcdo\\AppData\\Local\\Continuum\\anaconda3\\lib\\site-packages\\ipykernel_launcher.py:5: SettingWithCopyWarning: \n",
      "A value is trying to be set on a copy of a slice from a DataFrame.\n",
      "Try using .loc[row_indexer,col_indexer] = value instead\n",
      "\n",
      "See the caveats in the documentation: http://pandas.pydata.org/pandas-docs/stable/indexing.html#indexing-view-versus-copy\n",
      "  \"\"\"\n",
      "C:\\Users\\jumcdo\\AppData\\Local\\Continuum\\anaconda3\\lib\\site-packages\\ipykernel_launcher.py:7: SettingWithCopyWarning: \n",
      "A value is trying to be set on a copy of a slice from a DataFrame.\n",
      "Try using .loc[row_indexer,col_indexer] = value instead\n",
      "\n",
      "See the caveats in the documentation: http://pandas.pydata.org/pandas-docs/stable/indexing.html#indexing-view-versus-copy\n",
      "  import sys\n"
     ]
    }
   ],
   "source": [
    "#create new column with the calculated average for each row in specified columns\n",
    "df1['PAnxiety'] = np.average((df1['PA1'], df1['PA2'], df1['PA3']), axis = 0)\n",
    "\n",
    "df1['PBIntent'] = np.average((df1['PBI1'], df1['PBI2'], df1['PBI3'], df1['PBI4']), axis = 0)\n",
    "\n",
    "df1['PAffect'] = np.average((df1['PA4'], df1['PA5'], df1['PA6'], df1['PA7']), axis = 0)\n",
    "\n",
    "df1['PGL_sum'] = round((df1['PGL1'] + df1['PGL2'] + df1['PGL3']))"
   ]
  },
  {
   "cell_type": "code",
   "execution_count": 7,
   "metadata": {},
   "outputs": [
    {
     "name": "stderr",
     "output_type": "stream",
     "text": [
      "C:\\Users\\jumcdo\\AppData\\Local\\Continuum\\anaconda3\\lib\\site-packages\\pandas\\core\\generic.py:5430: SettingWithCopyWarning: \n",
      "A value is trying to be set on a copy of a slice from a DataFrame\n",
      "\n",
      "See the caveats in the documentation: http://pandas.pydata.org/pandas-docs/stable/indexing.html#indexing-view-versus-copy\n",
      "  self._update_inplace(new_data)\n"
     ]
    }
   ],
   "source": [
    "#replace n/a values with mode\n",
    "fill_values = {'Education': df1['Education'].mode()}\n",
    "df1.fillna(value = fill_values, inplace = True)\n",
    "\n",
    "#replace n/a values with median\n",
    "fill_values = {'Income': df1['Income'].median()}\n",
    "df1.fillna(value = fill_values, inplace = True)\n",
    "\n",
    "#replace n/a values with 1\n",
    "fill_values = {'OwnCell': 1}\n",
    "df1.fillna(value = fill_values, inplace = True)\n",
    "\n",
    "#replace n/a values with 1\n",
    "fill_values = {'UsedCell': 1}\n",
    "df1.fillna(value = fill_values, inplace = True)\n",
    "\n",
    "#replace n/a values with mean\n",
    "fill_values = {'Comfort': round(df1['Comfort'].mean(), 1)}\n",
    "df1.fillna(value = fill_values, inplace = True)\n",
    "\n",
    "#replace n/a values with mean\n",
    "fill_values = {'Staisfaction': round(df1['Satisfaction'].mean(), 1)}\n",
    "df1.fillna(value = fill_values, inplace = True)"
   ]
  },
  {
   "cell_type": "code",
   "execution_count": 8,
   "metadata": {},
   "outputs": [
    {
     "name": "stderr",
     "output_type": "stream",
     "text": [
      "C:\\Users\\jumcdo\\AppData\\Local\\Continuum\\anaconda3\\lib\\site-packages\\ipykernel_launcher.py:1: SettingWithCopyWarning: \n",
      "A value is trying to be set on a copy of a slice from a DataFrame.\n",
      "Try using .loc[row_indexer,col_indexer] = value instead\n",
      "\n",
      "See the caveats in the documentation: http://pandas.pydata.org/pandas-docs/stable/indexing.html#indexing-view-versus-copy\n",
      "  \"\"\"Entry point for launching an IPython kernel.\n",
      "C:\\Users\\jumcdo\\AppData\\Local\\Continuum\\anaconda3\\lib\\site-packages\\ipykernel_launcher.py:2: SettingWithCopyWarning: \n",
      "A value is trying to be set on a copy of a slice from a DataFrame.\n",
      "Try using .loc[row_indexer,col_indexer] = value instead\n",
      "\n",
      "See the caveats in the documentation: http://pandas.pydata.org/pandas-docs/stable/indexing.html#indexing-view-versus-copy\n",
      "  \n",
      "C:\\Users\\jumcdo\\AppData\\Local\\Continuum\\anaconda3\\lib\\site-packages\\pandas\\core\\frame.py:3694: SettingWithCopyWarning: \n",
      "A value is trying to be set on a copy of a slice from a DataFrame\n",
      "\n",
      "See the caveats in the documentation: http://pandas.pydata.org/pandas-docs/stable/indexing.html#indexing-view-versus-copy\n",
      "  errors=errors)\n",
      "C:\\Users\\jumcdo\\AppData\\Local\\Continuum\\anaconda3\\lib\\site-packages\\pandas\\core\\frame.py:3778: SettingWithCopyWarning: \n",
      "A value is trying to be set on a copy of a slice from a DataFrame\n",
      "\n",
      "See the caveats in the documentation: http://pandas.pydata.org/pandas-docs/stable/indexing.html#indexing-view-versus-copy\n",
      "  return super(DataFrame, self).rename(**kwargs)\n"
     ]
    }
   ],
   "source": [
    "#convert Income and Education column to category type\n",
    "df1['IncomeNew'] = df1[\"Income\"].astype(\"category\")\n",
    "df1['EducationNew'] = df1[\"Education\"].astype(\"category\")\n",
    "\n",
    "#change category numbers in EducationNew column\n",
    "df1[\"EducationNew\"].cat.rename_categories({0:1, 1:2, 2:3, 3:4, 4:5}, inplace = True)\n",
    "\n",
    "#drop old Income and Education columns\n",
    "df1.drop('Education', axis = 1, inplace = True)\n",
    "df1.drop('Income', axis = 1, inplace = True)\n",
    "\n",
    "#rename the newly created columns\n",
    "df1.rename(index=str, columns={'EducationNew':'Education'}, inplace = True)\n",
    "df1.rename(index=str, columns={'IncomeNew':'Income'}, inplace = True)"
   ]
  },
  {
   "cell_type": "code",
   "execution_count": 9,
   "metadata": {},
   "outputs": [
    {
     "ename": "SyntaxError",
     "evalue": "invalid syntax (<ipython-input-9-4850b3782334>, line 5)",
     "output_type": "error",
     "traceback": [
      "\u001b[1;36m  File \u001b[1;32m\"<ipython-input-9-4850b3782334>\"\u001b[1;36m, line \u001b[1;32m5\u001b[0m\n\u001b[1;33m    df1.\u001b[0m\n\u001b[1;37m        ^\u001b[0m\n\u001b[1;31mSyntaxError\u001b[0m\u001b[1;31m:\u001b[0m invalid syntax\n"
     ]
    }
   ],
   "source": [
    "#create dataframe with only the columns needed \n",
    "df1 = df1[['SurveyID', 'Age', 'Gender', 'Education', 'Income', 'OwnCell', 'UsedCell', 'Comfort',\n",
    "'Satisfaction', 'PAnxiety', 'PAffect', 'PBIntent', 'PBIUse', 'PBIBuy', 'PGL_sum']]"
   ]
  },
  {
   "cell_type": "code",
   "execution_count": 14,
   "metadata": {},
   "outputs": [],
   "source": [
    "#save created df1 to .csv\n",
    "df1.to_csv('Taiwan_cell_CLEAN.csv', sep=',')"
   ]
  },
  {
   "cell_type": "code",
   "execution_count": null,
   "metadata": {},
   "outputs": [],
   "source": []
  }
 ],
 "metadata": {
  "kernelspec": {
   "display_name": "Python 3",
   "language": "python",
   "name": "python3"
  },
  "language_info": {
   "codemirror_mode": {
    "name": "ipython",
    "version": 3
   },
   "file_extension": ".py",
   "mimetype": "text/x-python",
   "name": "python",
   "nbconvert_exporter": "python",
   "pygments_lexer": "ipython3",
   "version": "3.6.5"
  }
 },
 "nbformat": 4,
 "nbformat_minor": 2
}
