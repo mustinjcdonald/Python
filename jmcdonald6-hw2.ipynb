{
 "cells": [
  {
   "cell_type": "markdown",
   "metadata": {},
   "source": [
    "```\n",
    "Justin McDonald\n",
    "\n",
    "HW 2\n",
    "\n",
    "Write a program calculates the users total compunded interest after they enter their deposit, interest rate, and the total amount of months the money will be in the account\n",
    "```"
   ]
  },
  {
   "cell_type": "code",
   "execution_count": 18,
   "metadata": {},
   "outputs": [
    {
     "name": "stdout",
     "output_type": "stream",
     "text": [
      "Enter your amount of deposit: 8000\n",
      "Enter your monthly interest rate as decimal: .1\n",
      "Enter number of months the money is on deposit: 45\n",
      " Deposit    Interest   Months \t    Result\n",
      "$8000.00 \t 0.1 \t   45 \t $11731.83\n"
     ]
    }
   ],
   "source": [
    "def main():\n",
    "    \n",
    "    deposit = float(input('Enter your amount of deposit: '))\n",
    "    #Validate that the deposit is less than a million\n",
    "    if deposit > 1000000000:\n",
    "        getDeposit()\n",
    "    \n",
    "    interest_rate =  float(input('Enter your monthly interest rate as decimal: '))\n",
    "    #validate that the interest rate is lower than 15%\n",
    "    if interest_rate > .15:\n",
    "        getInterest()\n",
    "        \n",
    "    months = int(input('Enter number of months the money is on deposit: ' ))\n",
    "    #validate that the time for months is less than 240 months\n",
    "    if months > 240: \n",
    "        getMonths()\n",
    "        \n",
    "    total = future_value(deposit, months, interest_rate)\n",
    "    #pass the amounts the user entered to the function that will calculate their total\n",
    "    \n",
    "    print(' Deposit', '  ', 'Interest', ' ', 'Months', '\\t   ', 'Result')\n",
    "    print('$' + format(deposit, '.2f'), '\\t', format(interest_rate, '.1f'),'\\t  ', months,'\\t', '$' + format(total, '.2f'))\n",
    "    \n",
    "def getDeposit():\n",
    "        \n",
    "            print('This amount is to high.')\n",
    "            desposit = float(input('Please enter a lower amount: ' ))\n",
    "            return deposit\n",
    "    \n",
    "def getInterest():\n",
    "        \n",
    "            print('This interest rate is to high.')\n",
    "            interest_rate = float(input('Please enter a smaller number: ' ))\n",
    "            return interest_rate\n",
    "\n",
    "def getMonths():\n",
    "        \n",
    "            print('The maximum number of months allowed is 240 months')\n",
    "            months = int(input('Please enter number of months again: ' ))\n",
    "            return months\n",
    "            \n",
    "def future_value(deposit, interest_rate, months):\n",
    "    \n",
    "    future_value = deposit * ((1 + interest_rate) ** months)\n",
    "    return future_value\n",
    "    \n",
    "main()"
   ]
  },
  {
   "cell_type": "code",
   "execution_count": null,
   "metadata": {},
   "outputs": [],
   "source": []
  },
  {
   "cell_type": "code",
   "execution_count": null,
   "metadata": {},
   "outputs": [],
   "source": []
  }
 ],
 "metadata": {
  "kernelspec": {
   "display_name": "Python 3",
   "language": "python",
   "name": "python3"
  },
  "language_info": {
   "codemirror_mode": {
    "name": "ipython",
    "version": 3
   },
   "file_extension": ".py",
   "mimetype": "text/x-python",
   "name": "python",
   "nbconvert_exporter": "python",
   "pygments_lexer": "ipython3",
   "version": "3.6.5"
  }
 },
 "nbformat": 4,
 "nbformat_minor": 2
}
