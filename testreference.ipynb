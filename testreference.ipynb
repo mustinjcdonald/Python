{
 "cells": [
  {
   "cell_type": "code",
   "execution_count": null,
   "metadata": {},
   "outputs": [],
   "source": [
    "#read .csv file with tax filer data\n",
    "tax_table = pd.io.parsers.read_csv(\"15zpnyagi.csv\", usecols=['STATE', 'A00200'])\n",
    "\n",
    "#create series for the two columns in .csv file\n",
    "data = pd.Series(tax_table.A00200.values, index = tax_table.STATE.values)\n",
    "#calculate the total for each value found with the index \"NY\" in the created series\n",
    "Total = data.loc[data.index == 'NY'].sum()"
   ]
  },
  {
   "cell_type": "code",
   "execution_count": null,
   "metadata": {},
   "outputs": [],
   "source": [
    "#read .csv file with tax filer data\n",
    "tax_table = pd.io.parsers.read_csv(\"15zpnyagi.csv\", usecols=['NUMDEP', 'agi_stub'])\n",
    "\n",
    "#create series for the two columns in .csv file\n",
    "data = pd.Series(tax_table.NUMDEP.values, index = tax_table.agi_stub.values)\n",
    "#calculate the total for each value found with the index 3 in the created series\n",
    "Total = data.loc[data.index == 3].sum()"
   ]
  },
  {
   "cell_type": "code",
   "execution_count": null,
   "metadata": {},
   "outputs": [],
   "source": [
    "#read .csv file with tax filer data\n",
    "tax_table = pd.io.parsers.read_csv(\"15zpnyagi.csv\", usecols=['A03220', 'zipcode'])\n",
    "\n",
    "#create series for the two columns in .csv file\n",
    "data = pd.Series(tax_table.A03220.values, index = tax_table.zipcode.values)\n",
    "#calculate the total for each value found with the index 10992 in the created series\n",
    "Total = data.loc[data.index == 10992].sum()"
   ]
  },
  {
   "cell_type": "code",
   "execution_count": null,
   "metadata": {},
   "outputs": [],
   "source": [
    "#read data\n",
    "df = pd.read_excel(\"Taiwan_CellSurvey_RAW.xlsx\")\n",
    "#remove duplicates\n",
    "df1 = df.drop_duplicates()"
   ]
  },
  {
   "cell_type": "code",
   "execution_count": null,
   "metadata": {},
   "outputs": [],
   "source": [
    "#convert Gender column to category type\n",
    "df1['GenderNew'] = df1[\"Gender\"].astype(\"category\")\n",
    "\n",
    "#change the numbers of category in the GenderNew column\n",
    "df1[\"GenderNew\"].cat.rename_categories({1:0, 2:1}, inplace = True)\n",
    "\n",
    "#drop the old Gender column\n",
    "df1.drop('Gender', axis = 1, inplace = True)\n",
    "\n",
    "#rename the GenderNew column to old name\n",
    "df1.rename(index=str, columns={'GenderNew':'Gender'}, inplace = True)"
   ]
  },
  {
   "cell_type": "code",
   "execution_count": null,
   "metadata": {},
   "outputs": [],
   "source": [
    "#reorg the order of columns in dataframe\n",
    "cols2 = ['SurveyID', 'Age', 'Gender_RAW', 'Type', 'Education', 'Income',\n",
    "       'Employed', 'FullPart', '@1OwnCell', '@2UsedCell', '@3OwnHousePhone',\n",
    "       '@4UseFreq', 'BQ4a', 'BQ4aCont', '@5UseLength', 'BQ5a', 'BQ5aCont',\n",
    "       '@6aTexting', '@6bEmail', '@6cInternet', '@6dBank', '@6eBills',\n",
    "       '@6fFacebook', '@6gPics', '@6hGames', '@6iBuy', '@7PurchOnline', 'BQ7a',\n",
    "       'BQ7aCont', '@8CellExper', 'BQ8a', 'BQ8b', '@9Comfort', 'BQ9a',\n",
    "       '@10Satisfaction', 'BQ10a', 'PA1', 'PA2', 'PA3', 'PA4', 'PA5', 'PA6',\n",
    "       'PA7', 'PBI1', 'PBI2', 'PBI3', 'PBI4', 'PBIUse', 'PBIBuy', 'PGL1',\n",
    "       'PGL2', 'PGL3', 'Comments', 'VAR00001']"
   ]
  },
  {
   "cell_type": "code",
   "execution_count": null,
   "metadata": {},
   "outputs": [],
   "source": [
    "#replace n/a values with the average of each row in Age column\n",
    "fill_values = {'Age': round(df1['Age'].mean(), 1)}\n",
    "\n",
    "df1.fillna(value = fill_values, inplace = True)"
   ]
  },
  {
   "cell_type": "code",
   "execution_count": null,
   "metadata": {},
   "outputs": [],
   "source": [
    "#create new column with the calculated average for each row in specified columns\n",
    "df1['PAnxiety'] = np.average((df1['PA1'], df1['PA2'], df1['PA3']), axis = 0)\n",
    "\n",
    "df1['PBIntent'] = np.average((df1['PBI1'], df1['PBI2'], df1['PBI3'], df1['PBI4']), axis = 0)\n",
    "\n",
    "df1['PAffect'] = np.average((df1['PA4'], df1['PA5'], df1['PA6'], df1['PA7']), axis = 0)\n",
    "\n",
    "df1['PGL_sum'] = round((df1['PGL1'] + df1['PGL2'] + df1['PGL3']))"
   ]
  },
  {
   "cell_type": "code",
   "execution_count": null,
   "metadata": {},
   "outputs": [],
   "source": [
    "#replace n/a values with mode\n",
    "fill_values = {'Education': df1['Education'].mode()}\n",
    "df1.fillna(value = fill_values, inplace = True)\n",
    "\n",
    "#replace n/a values with median\n",
    "fill_values = {'Income': df1['Income'].median()}\n",
    "df1.fillna(value = fill_values, inplace = True)\n",
    "\n",
    "#replace n/a values with 1\n",
    "fill_values = {'OwnCell': 1}\n",
    "df1.fillna(value = fill_values, inplace = True)\n",
    "\n",
    "#replace n/a values with 1\n",
    "fill_values = {'UsedCell': 1}\n",
    "df1.fillna(value = fill_values, inplace = True)\n",
    "\n",
    "#replace n/a values with mean\n",
    "fill_values = {'Comfort': round(df1['Comfort'].mean(), 1)}\n",
    "df1.fillna(value = fill_values, inplace = True)\n",
    "\n",
    "#replace n/a values with mean\n",
    "fill_values = {'Staisfaction': round(df1['Satisfaction'].mean(), 1)}\n",
    "df1.fillna(value = fill_values, inplace = True)"
   ]
  },
  {
   "cell_type": "code",
   "execution_count": null,
   "metadata": {},
   "outputs": [],
   "source": [
    "#convert Income and Education column to category type\n",
    "df1['IncomeNew'] = df1[\"Income\"].astype(\"category\")\n",
    "df1['EducationNew'] = df1[\"Education\"].astype(\"category\")\n",
    "\n",
    "#change category numbers in EducationNew column\n",
    "df1[\"EducationNew\"].cat.rename_categories({0:1, 1:2, 2:3, 3:4, 4:5}, inplace = True)\n",
    "\n",
    "#drop old Income and Education columns\n",
    "df1.drop('Education', axis = 1, inplace = True)\n",
    "df1.drop('Income', axis = 1, inplace = True)\n",
    "\n",
    "#rename the newly created columns\n",
    "df1.rename(index=str, columns={'EducationNew':'Education'}, inplace = True)\n",
    "df1.rename(index=str, columns={'IncomeNew':'Income'}, inplace = True)"
   ]
  },
  {
   "cell_type": "code",
   "execution_count": null,
   "metadata": {},
   "outputs": [],
   "source": [
    "#create dataframe with only the columns needed \n",
    "df1 = df1[['SurveyID', 'Age', 'Gender', 'Education', 'Income', 'OwnCell', 'UsedCell', 'Comfort',\n",
    "'Satisfaction', 'PAnxiety', 'PAffect', 'PBIntent', 'PBIUse', 'PBIBuy', 'PGL_sum']]"
   ]
  },
  {
   "cell_type": "code",
   "execution_count": null,
   "metadata": {},
   "outputs": [],
   "source": [
    "#save created df1 to .csv\n",
    "df1.to_csv('Taiwan_cell_CLEAN.csv', sep=',')"
   ]
  }
 ],
 "metadata": {
  "kernelspec": {
   "display_name": "Python 3",
   "language": "python",
   "name": "python3"
  },
  "language_info": {
   "codemirror_mode": {
    "name": "ipython",
    "version": 3
   },
   "file_extension": ".py",
   "mimetype": "text/x-python",
   "name": "python",
   "nbconvert_exporter": "python",
   "pygments_lexer": "ipython3",
   "version": "3.6.5"
  }
 },
 "nbformat": 4,
 "nbformat_minor": 2
}
