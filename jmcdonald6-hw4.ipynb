{
 "cells": [
  {
   "cell_type": "markdown",
   "metadata": {},
   "source": [
    "```\n",
    "Programmer: Justin McDonald\n",
    "Assignment: Homework 4\n",
    "Due Date: 10/23/18\n",
    "Purpose: Create a program that assigns an iterated year starting at 1903 to each line of Series Winners. \n",
    "         Then allow the user search by year for the winning team.\n",
    "\n",
    "Algorithm:\n",
    "1. Open file that contains the list of winners\n",
    "2. Write a for loop that will assign the iterated year to the incremented line in file\n",
    "3. Build array that will be used to count that amount of times a certain team is found to count wins\n",
    "4. ask user for input of year between 1903 - 2017\n",
    "5. Write if else statement that will let the user know that 1904 and 1994 were not played, and if they did not enter a valid year\n",
    "6. Keep asking for user input until they enter the string \"exit\"\n",
    "```"
   ]
  },
  {
   "cell_type": "code",
   "execution_count": null,
   "metadata": {},
   "outputs": [],
   "source": [
    "openfile = open('WorldSeriesWinners.txt', 'r') #open Series Winners file\n",
    "\n",
    "year = 1903 #start year counter at 1903\n",
    "series = {}\n",
    "champion = {}\n",
    "runCheck = 1\n",
    "chosenYear = 0\n",
    "\n",
    "teams = openfile.read()\n",
    "teams = teams.split('\\n')\n",
    "\n",
    "#do not assign a team to the years 1904 & 1994\n",
    "for line in range(0, len(teams)):\n",
    "    if year == 1904 or year == 1994:\n",
    "        series[year] = None\n",
    "        year = year + 1\n",
    "#for the each line in Winners file assign a year number    \n",
    "    series[year] = teams[line]\n",
    "    year = year + 1\n",
    "#create array that holds team names so that we can count how many times each team is read for totals wins\n",
    "for line in teams:\n",
    "    champion[line] = champion.get(line, 0) + 1\n",
    "\n",
    "#do while runCheck is equal to 1, return 1 after every correct entry. When entry is \"exit\" return 0\n",
    "while runCheck == 1:\n",
    "    runCheck = 0\n",
    "    \n",
    "    chosenYear = str(input('\\nEnter a year in the range 1903 - 2017 (Type \"exit\" if finished): '))\n",
    "    if chosenYear.lower() == \"exit\":\n",
    "        runCheck = 0\n",
    "    elif int(chosenYear) < int(1903):\n",
    "        print('\\nThe World Series was not played in this year.')\n",
    "        runCheck = 1\n",
    "    elif int(chosenYear) > 2017:\n",
    "        print('This Series has not been played yet.')\n",
    "        runCheck = 1\n",
    "    elif series[int(chosenYear)]:\n",
    "        print('The team that won the World Series in', int(chosenYear), 'is the', series[int(chosenYear)] + '.')\n",
    "        print('They won the World Series', champion.get(series[int(chosenYear)], 0), 'time(s).')\n",
    "        runCheck = 1\n",
    "    else:\n",
    "        print('The World Series was not played in the year', int(chosenYear), '.\\n')\n",
    "        runCheck = 1"
   ]
  }
 ],
 "metadata": {
  "kernelspec": {
   "display_name": "Python 3",
   "language": "python",
   "name": "python3"
  },
  "language_info": {
   "codemirror_mode": {
    "name": "ipython",
    "version": 3
   },
   "file_extension": ".py",
   "mimetype": "text/x-python",
   "name": "python",
   "nbconvert_exporter": "python",
   "pygments_lexer": "ipython3",
   "version": "3.6.5"
  }
 },
 "nbformat": 4,
 "nbformat_minor": 2
}
