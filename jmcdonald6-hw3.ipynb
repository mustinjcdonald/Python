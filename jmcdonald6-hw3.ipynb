{
 "cells": [
  {
   "cell_type": "raw",
   "metadata": {},
   "source": [
    "```\n",
    "Programmer: Justin McDonald\n",
    "Assignment: Homework 3\n",
    "Due Date: 10/12/18\n",
    "Purpose: Create a program that will run a list of correct letter answers against a list of student answers to calculate a grade\n",
    "\n",
    "Algorithm:\n",
    "1. Open files that contians correct answers and read each line into an array.\n",
    "2. Open file that contains student answers and find the student name when the index is -1.\n",
    "3. Then load every index after that into a tuple that contains both names and grades.\n",
    "4. Then run the files against eachother and use a counter to hold how many matches are found.\n",
    "5. Record this number as the students score and divide it by the total number of answers in the correct file.\n",
    "6. Run an if statement that will decide if the student failed by missing more than 5 or else they pass.\n",
    "```"
   ]
  },
  {
   "cell_type": "code",
   "execution_count": 122,
   "metadata": {},
   "outputs": [
    {
     "name": "stdout",
     "output_type": "stream",
     "text": [
      "Sorry, Shakira you did not pass.\n",
      "You got 14 out of 20 correct.\n",
      "That is a score of 70% \n",
      "\n",
      "Sorry, Pitbull you did not pass.\n",
      "You got 7 out of 20 correct.\n",
      "That is a score of 35% \n",
      "\n",
      "Congratulations, Rihanna you passed!\n",
      "You got 18 out of 20 correct.\n",
      "That is a score of 90% \n",
      "\n",
      "Processing Complete\n",
      "\n"
     ]
    }
   ],
   "source": [
    "def checkAnswers(correct_list, test_list):\n",
    "    #returns the amount of answers that match the list of correct answers\n",
    "    right_answers = 0\n",
    "    \n",
    "    for line in range(len(correct_list)):\n",
    "        if test_list[line] == correct_list[line]:\n",
    "            #stores how many times a match is found\n",
    "            right_answers += 1\n",
    "    #return the amount of answers that were a match\n",
    "    return right_answers\n",
    "\n",
    "def getCorrectAnswers(correct_file):\n",
    "    answers_sheet = []\n",
    "\n",
    "    #get 20 scores\n",
    "    for line in range(20):\n",
    "        #gets first character of this line and add it to list\n",
    "        answers_sheet.append(correct_file.readline()[0])\n",
    "    #return list of correct answers\n",
    "    return answers_sheet\n",
    "\n",
    "def getStudentAnswers(student_file):\n",
    "    student_answers = []\n",
    "\n",
    "    while 1:\n",
    "        #get student name\n",
    "        student_name = student_file.readline()[:-1]\n",
    "\n",
    "        if student_name == \"\":\n",
    "            break\n",
    "\n",
    "        #ceate a tuple with a student name and their answers accordingly\n",
    "        student = (student_name, getCorrectAnswers(student_file))\n",
    "        student_answers.append(student)\n",
    "        \n",
    "    #return list with student name and their answers\n",
    "    return student_answers\n",
    "\n",
    "def main():\n",
    "    #read correct anwers\n",
    "    answer_sheet = []\n",
    "\n",
    "    with open(\"dl_correct.txt\", \"r\") as correct_file:\n",
    "        answer_sheet = getCorrectAnswers(correct_file)\n",
    "        \n",
    "    #read student answers\n",
    "    student_answers = []\n",
    "\n",
    "    with open(\"student_dl.txt\", \"r\") as student_file:\n",
    "        student_answers = getStudentAnswers(student_file)\n",
    "\n",
    "    #call checkAnswers method to iterate for possible matches\n",
    "    for student_answer in student_answers:\n",
    "        score = checkAnswers(answer_sheet, student_answer[1])\n",
    "        score_pctg = float((score) / 20.0)\n",
    "        \n",
    "        #check the students right_answers in checkAnswers method and decide their final grade\n",
    "        if score < 15:\n",
    "            print (\"Sorry,\", student_answer[0], \"you did not pass.\")\n",
    "        else:\n",
    "            print (\"Congratulations,\", student_answer[0], \"you passed!\")\n",
    "\n",
    "        print (\"You got\", score, \"out of 20 correct.\")\n",
    "        print (\"That is a score of\", format(score_pctg, '.0%'), '\\n' )\n",
    "\n",
    "    print (\"Processing Complete\\n\")\n",
    "main()"
   ]
  },
  {
   "cell_type": "code",
   "execution_count": null,
   "metadata": {},
   "outputs": [],
   "source": []
  }
 ],
 "metadata": {
  "kernelspec": {
   "display_name": "Python 3",
   "language": "python",
   "name": "python3"
  },
  "language_info": {
   "codemirror_mode": {
    "name": "ipython",
    "version": 3
   },
   "file_extension": ".py",
   "mimetype": "text/x-python",
   "name": "python",
   "nbconvert_exporter": "python",
   "pygments_lexer": "ipython3",
   "version": "3.6.5"
  }
 },
 "nbformat": 4,
 "nbformat_minor": 2
}
